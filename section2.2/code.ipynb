{
 "cells": [
  {
   "cell_type": "markdown",
   "source": [
    "# code2.7\n",
    "複素数の四則演算"
   ],
   "metadata": {
    "collapsed": false,
    "pycharm": {
     "name": "#%% md\n"
    }
   }
  },
  {
   "cell_type": "code",
   "execution_count": 1,
   "outputs": [
    {
     "name": "stdout",
     "output_type": "stream",
     "text": [
      "z= (1+2j)\n",
      "u= (2+3j)\n"
     ]
    }
   ],
   "source": [
    "import numpy as np\n",
    "z = 1.0 + 2.0j\n",
    "u = 2.0 + 3.0j\n",
    "\n",
    "print(\"z=\", z)\n",
    "print(\"u=\", u)"
   ],
   "metadata": {
    "collapsed": false,
    "pycharm": {
     "name": "#%%\n"
    }
   }
  },
  {
   "cell_type": "code",
   "execution_count": 2,
   "outputs": [
    {
     "name": "stdout",
     "output_type": "stream",
     "text": [
      "Real(z)= 1.0\n",
      "Imaginary(z)= 2.0\n",
      "z^*= (1-2j)\n",
      "|z|= 2.23606797749979\n"
     ]
    }
   ],
   "source": [
    "print(\"Real(z)=\", np.real(z))\n",
    "print(\"Imaginary(z)=\", np.imag(z))\n",
    "print(\"z^*=\", np.conjugate(z))\n",
    "print(\"|z|=\", np.abs(z))"
   ],
   "metadata": {
    "collapsed": false,
    "pycharm": {
     "name": "#%%\n"
    }
   }
  },
  {
   "cell_type": "code",
   "execution_count": 3,
   "outputs": [
    {
     "name": "stdout",
     "output_type": "stream",
     "text": [
      "z + u = (3+5j)\n",
      "z - u = (-1-1j)\n",
      "z * u = (-4+7j)\n",
      "z / u = (0.6153846153846154+0.07692307692307691j)\n"
     ]
    }
   ],
   "source": [
    "v = z + u\n",
    "print(\"z + u =\", v)\n",
    "\n",
    "v = z - u\n",
    "print(\"z - u =\", v)\n",
    "\n",
    "v = z * u\n",
    "print(\"z * u =\", v)\n",
    "\n",
    "v = z / u\n",
    "print(\"z / u =\", v)"
   ],
   "metadata": {
    "collapsed": false,
    "pycharm": {
     "name": "#%%\n"
    }
   }
  }
 ],
 "metadata": {
  "kernelspec": {
   "display_name": "Python 3",
   "language": "python",
   "name": "python3"
  },
  "language_info": {
   "codemirror_mode": {
    "name": "ipython",
    "version": 2
   },
   "file_extension": ".py",
   "mimetype": "text/x-python",
   "name": "python",
   "nbconvert_exporter": "python",
   "pygments_lexer": "ipython2",
   "version": "2.7.6"
  }
 },
 "nbformat": 4,
 "nbformat_minor": 0
}